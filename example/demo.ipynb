{
 "cells": [
  {
   "cell_type": "code",
   "execution_count": 16,
   "metadata": {},
   "outputs": [
    {
     "name": "stdout",
     "output_type": "stream",
     "text": [
      "c:\\Users\\Admin\\Desktop\\projekty\n"
     ]
    },
    {
     "name": "stderr",
     "output_type": "stream",
     "text": [
      "C:\\Users\\Admin\\AppData\\Roaming\\Python\\Python312\\site-packages\\IPython\\core\\magics\\osm.py:417: UserWarning: This is now an optional IPython functionality, setting dhist requires you to install the `pickleshare` library.\n",
      "  self.shell.db['dhist'] = compress_dhist(dhist)[-100:]\n"
     ]
    }
   ],
   "source": [
    "%cd ..\n",
    "from HyprDash import Dashboard\n",
    "from HyperServer import HyperDashServer"
   ]
  },
  {
   "cell_type": "code",
   "execution_count": 11,
   "metadata": {},
   "outputs": [],
   "source": [
    "from sklearn.datasets import load_iris\n",
    "from sklearn.tree import DecisionTreeClassifier\n",
    "\n",
    "params = {\"criterion\" : ['gini', 'entropy', 'log_loss'],\n",
    "          \"max_depth\" : list(range(3,9)),\n",
    "          \"min_samples_split\": list(range(2,7)),\n",
    "          \"min_samples_leaf\": list(range(1,5))}\n",
    "\n",
    "iris = load_iris()"
   ]
  },
  {
   "cell_type": "code",
   "execution_count": 14,
   "metadata": {},
   "outputs": [
    {
     "name": "stdout",
     "output_type": "stream",
     "text": [
      "Creating project directory at: c:\\Users\\Admin\\Desktop\\projekty\\HyprDash/example/demo_directory\n",
      "Training ended succesfully.\n"
     ]
    }
   ],
   "source": [
    "dashboard = Dashboard(DecisionTreeClassifier(), params, \"example/demo_directory\")\n",
    "dashboard.fit(iris.data, iris.target)"
   ]
  },
  {
   "cell_type": "code",
   "execution_count": 17,
   "metadata": {},
   "outputs": [
    {
     "ename": "FileNotFoundError",
     "evalue": "files missing: ['viz_site.html', 'index.html']",
     "output_type": "error",
     "traceback": [
      "\u001b[1;31m---------------------------------------------------------------------------\u001b[0m",
      "\u001b[1;31mFileNotFoundError\u001b[0m                         Traceback (most recent call last)",
      "Cell \u001b[1;32mIn[17], line 1\u001b[0m\n\u001b[1;32m----> 1\u001b[0m server \u001b[38;5;241m=\u001b[39m server \u001b[38;5;241m=\u001b[39m \u001b[43mHyperDashServer\u001b[49m\u001b[43m(\u001b[49m\u001b[38;5;124;43m'\u001b[39;49m\u001b[38;5;124;43mexample/demo_directory\u001b[39;49m\u001b[38;5;124;43m'\u001b[39;49m\u001b[43m)\u001b[49m\n\u001b[0;32m      2\u001b[0m server\u001b[38;5;241m.\u001b[39mserve_forever()\n",
      "File \u001b[1;32m~\\Desktop\\projekty\\HyprDash\\HyperServer.py:28\u001b[0m, in \u001b[0;36mHyperDashServer.__init__\u001b[1;34m(self, directory, host, port, **kwargs)\u001b[0m\n\u001b[0;32m     25\u001b[0m         missed\u001b[38;5;241m.\u001b[39mappend(file)\n\u001b[0;32m     27\u001b[0m \u001b[38;5;28;01mif\u001b[39;00m missed:\n\u001b[1;32m---> 28\u001b[0m     \u001b[38;5;28;01mraise\u001b[39;00m \u001b[38;5;167;01mFileNotFoundError\u001b[39;00m(\u001b[38;5;124mf\u001b[39m\u001b[38;5;124m\"\u001b[39m\u001b[38;5;124mfiles missing: \u001b[39m\u001b[38;5;132;01m{\u001b[39;00mmissed\u001b[38;5;132;01m}\u001b[39;00m\u001b[38;5;124m\"\u001b[39m)\n\u001b[0;32m     30\u001b[0m \u001b[38;5;28mprint\u001b[39m(\u001b[38;5;124m\"\u001b[39m\u001b[38;5;124mHyperDash 2024\u001b[39m\u001b[38;5;124m\"\u001b[39m)\n\u001b[0;32m     31\u001b[0m handler \u001b[38;5;241m=\u001b[39m partial(SimpleHTTPRequestHandler, directory \u001b[38;5;241m=\u001b[39m directory)\n",
      "\u001b[1;31mFileNotFoundError\u001b[0m: files missing: ['viz_site.html', 'index.html']"
     ]
    }
   ],
   "source": [
    "server = server = HyperDashServer('example/demo_directory')\n",
    "server.serve_forever()"
   ]
  },
  {
   "cell_type": "code",
   "execution_count": null,
   "metadata": {},
   "outputs": [],
   "source": []
  }
 ],
 "metadata": {
  "kernelspec": {
   "display_name": "Python 3",
   "language": "python",
   "name": "python3"
  },
  "language_info": {
   "codemirror_mode": {
    "name": "ipython",
    "version": 3
   },
   "file_extension": ".py",
   "mimetype": "text/x-python",
   "name": "python",
   "nbconvert_exporter": "python",
   "pygments_lexer": "ipython3",
   "version": "3.12.4"
  }
 },
 "nbformat": 4,
 "nbformat_minor": 2
}

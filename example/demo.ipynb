{
 "cells": [
  {
   "cell_type": "code",
   "execution_count": null,
   "metadata": {},
   "outputs": [],
   "source": [
    "%cd ..\n",
    "from hyperdash import *"
   ]
  },
  {
   "cell_type": "code",
   "execution_count": 6,
   "metadata": {},
   "outputs": [],
   "source": [
    "from sklearn.datasets import load_iris\n",
    "from sklearn.tree import DecisionTreeClassifier\n",
    "\n",
    "# define parameter grid\n",
    "params = {\"criterion\" : ['gini', 'entropy', 'log_loss'],\n",
    "          \"max_depth\" : list(range(3,9)),\n",
    "          \"min_samples_split\": list(range(2,7)),\n",
    "          \"min_samples_leaf\": list(range(1,5))}\n",
    "\n",
    "# load data\n",
    "iris = load_iris()"
   ]
  },
  {
   "cell_type": "code",
   "execution_count": null,
   "metadata": {},
   "outputs": [],
   "source": [
    "# define dashboard object\n",
    "dashboard = Dashboard(model = DecisionTreeClassifier(), params=params, dirname=\"example/demo_directory\")\n",
    "\n",
    "# run gridsearch, generate dashboard\n",
    "dashboard.fit(iris.data, iris.target)"
   ]
  },
  {
   "cell_type": "code",
   "execution_count": null,
   "metadata": {},
   "outputs": [],
   "source": [
    "#create server\n",
    "server = HyperDashServer('example/demo_directory')\n",
    "\n",
    "# run server\n",
    "server.serve_forever()"
   ]
  },
  {
   "cell_type": "code",
   "execution_count": null,
   "metadata": {},
   "outputs": [],
   "source": []
  }
 ],
 "metadata": {
  "kernelspec": {
   "display_name": "Python 3",
   "language": "python",
   "name": "python3"
  },
  "language_info": {
   "codemirror_mode": {
    "name": "ipython",
    "version": 3
   },
   "file_extension": ".py",
   "mimetype": "text/x-python",
   "name": "python",
   "nbconvert_exporter": "python",
   "pygments_lexer": "ipython3",
   "version": "3.12.4"
  }
 },
 "nbformat": 4,
 "nbformat_minor": 2
}

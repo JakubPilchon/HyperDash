{
 "cells": [
  {
   "cell_type": "code",
   "execution_count": null,
   "metadata": {},
   "outputs": [],
   "source": [
    "%cd ..\n",
    "from HyprDash import Dashboard\n",
    "from HyperServer import HyperDashServer"
   ]
  },
  {
   "cell_type": "code",
   "execution_count": 2,
   "metadata": {},
   "outputs": [],
   "source": [
    "from sklearn.datasets import load_iris\n",
    "from sklearn.tree import DecisionTreeClassifier\n",
    "\n",
    "params = {\"criterion\" : ['gini', 'entropy', 'log_loss'],\n",
    "          \"max_depth\" : list(range(3,9)),\n",
    "          \"min_samples_split\": list(range(2,7)),\n",
    "          \"min_samples_leaf\": list(range(1,5))}\n",
    "\n",
    "iris = load_iris()"
   ]
  },
  {
   "cell_type": "code",
   "execution_count": null,
   "metadata": {},
   "outputs": [],
   "source": [
    "dashboard = Dashboard(DecisionTreeClassifier(), params, \"example/demo_directory\")\n",
    "dashboard.fit(iris.data, iris.target)"
   ]
  },
  {
   "cell_type": "code",
   "execution_count": 3,
   "metadata": {},
   "outputs": [
    {
     "name": "stdout",
     "output_type": "stream",
     "text": [
      "HyperDash 2024\n",
      "Server online at http://localhost:8050/ \n",
      " Ctrl+C to end\n",
      "Server Stopped due to manual shutdown\n"
     ]
    }
   ],
   "source": [
    "server = server = HyperDashServer('example/demo_directory')\n",
    "server.serve_forever()"
   ]
  },
  {
   "cell_type": "code",
   "execution_count": null,
   "metadata": {},
   "outputs": [],
   "source": []
  }
 ],
 "metadata": {
  "kernelspec": {
   "display_name": "Python 3",
   "language": "python",
   "name": "python3"
  },
  "language_info": {
   "codemirror_mode": {
    "name": "ipython",
    "version": 3
   },
   "file_extension": ".py",
   "mimetype": "text/x-python",
   "name": "python",
   "nbconvert_exporter": "python",
   "pygments_lexer": "ipython3",
   "version": "3.12.4"
  }
 },
 "nbformat": 4,
 "nbformat_minor": 2
}
